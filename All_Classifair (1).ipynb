{
  "cells": [
    {
      "cell_type": "code",
      "execution_count": 27,
      "metadata": {
        "id": "9bsMcUmUWMmQ"
      },
      "outputs": [],
      "source": [
        "import pandas as pd\n",
        "import sklearn\n",
        "from sklearn.model_selection import train_test_split\n",
        "from sklearn import preprocessing\n",
        "from sklearn.metrics import confusion_matrix\n",
        "from sklearn.metrics import accuracy_score\n",
        "from sklearn.metrics import classification_report\n",
        "from sklearn.model_selection import KFold\n",
        "from sklearn.tree import DecisionTreeClassifier\n",
        "from sklearn.model_selection import cross_validate\n",
        "from sklearn.neural_network import MLPClassifier\n",
        "from sklearn.neighbors import KNeighborsClassifier\n",
        "from sklearn.ensemble import RandomForestClassifier\n",
        "from sklearn import svm , preprocessing\n",
        "from sklearn.ensemble import AdaBoostClassifier\n",
        "from sklearn.linear_model import LogisticRegression\n",
        "from sklearn.ensemble import GradientBoostingClassifier\n",
        "from xgboost import XGBClassifier\n",
        "from sklearn.ensemble import GradientBoostingClassifier\n",
        "from sklearn.experimental import enable_hist_gradient_boosting\n",
        "from sklearn.ensemble import HistGradientBoostingClassifier\n",
        "from lightgbm import LGBMClassifier\n",
        "import numpy as np\n"
      ]
    },
    {
      "cell_type": "code",
      "source": [
        "# Install catboost if not already installed\n",
        "!pip install catboost\n",
        "from catboost import CatBoostClassifier"
      ],
      "metadata": {
        "colab": {
          "base_uri": "https://localhost:8080/"
        },
        "id": "QXzZSgaPWdv_",
        "outputId": "0133d4ca-893c-4a80-eaab-4e8216c47910"
      },
      "execution_count": 28,
      "outputs": [
        {
          "output_type": "stream",
          "name": "stdout",
          "text": [
            "Requirement already satisfied: catboost in /usr/local/lib/python3.11/dist-packages (1.2.8)\n",
            "Requirement already satisfied: graphviz in /usr/local/lib/python3.11/dist-packages (from catboost) (0.20.3)\n",
            "Requirement already satisfied: matplotlib in /usr/local/lib/python3.11/dist-packages (from catboost) (3.10.0)\n",
            "Requirement already satisfied: numpy<3.0,>=1.16.0 in /usr/local/lib/python3.11/dist-packages (from catboost) (2.0.2)\n",
            "Requirement already satisfied: pandas>=0.24 in /usr/local/lib/python3.11/dist-packages (from catboost) (2.2.2)\n",
            "Requirement already satisfied: scipy in /usr/local/lib/python3.11/dist-packages (from catboost) (1.14.1)\n",
            "Requirement already satisfied: plotly in /usr/local/lib/python3.11/dist-packages (from catboost) (5.24.1)\n",
            "Requirement already satisfied: six in /usr/local/lib/python3.11/dist-packages (from catboost) (1.17.0)\n",
            "Requirement already satisfied: python-dateutil>=2.8.2 in /usr/local/lib/python3.11/dist-packages (from pandas>=0.24->catboost) (2.8.2)\n",
            "Requirement already satisfied: pytz>=2020.1 in /usr/local/lib/python3.11/dist-packages (from pandas>=0.24->catboost) (2025.2)\n",
            "Requirement already satisfied: tzdata>=2022.7 in /usr/local/lib/python3.11/dist-packages (from pandas>=0.24->catboost) (2025.2)\n",
            "Requirement already satisfied: contourpy>=1.0.1 in /usr/local/lib/python3.11/dist-packages (from matplotlib->catboost) (1.3.1)\n",
            "Requirement already satisfied: cycler>=0.10 in /usr/local/lib/python3.11/dist-packages (from matplotlib->catboost) (0.12.1)\n",
            "Requirement already satisfied: fonttools>=4.22.0 in /usr/local/lib/python3.11/dist-packages (from matplotlib->catboost) (4.57.0)\n",
            "Requirement already satisfied: kiwisolver>=1.3.1 in /usr/local/lib/python3.11/dist-packages (from matplotlib->catboost) (1.4.8)\n",
            "Requirement already satisfied: packaging>=20.0 in /usr/local/lib/python3.11/dist-packages (from matplotlib->catboost) (24.2)\n",
            "Requirement already satisfied: pillow>=8 in /usr/local/lib/python3.11/dist-packages (from matplotlib->catboost) (11.1.0)\n",
            "Requirement already satisfied: pyparsing>=2.3.1 in /usr/local/lib/python3.11/dist-packages (from matplotlib->catboost) (3.2.3)\n",
            "Requirement already satisfied: tenacity>=6.2.0 in /usr/local/lib/python3.11/dist-packages (from plotly->catboost) (9.1.2)\n"
          ]
        }
      ]
    },
    {
      "cell_type": "code",
      "execution_count": 29,
      "metadata": {
        "id": "1dCFUCEYWMmS"
      },
      "outputs": [],
      "source": [
        "def mean_score(scoring):\n",
        "    return {i:j.mean() for i,j in scoring.items()}"
      ]
    },
    {
      "cell_type": "markdown",
      "metadata": {
        "id": "L_5koNCqWMmS"
      },
      "source": [
        "# Loading data.\n",
        "- Load data and shuffle it with specific seeding."
      ]
    },
    {
      "cell_type": "code",
      "execution_count": 30,
      "metadata": {
        "colab": {
          "base_uri": "https://localhost:8080/",
          "height": 287
        },
        "id": "kZBYkdtZWMmT",
        "outputId": "abd1c4b4-f8b6-46b4-814e-d2ec6f99a9ff"
      },
      "outputs": [
        {
          "output_type": "execute_result",
          "data": {
            "text/plain": [
              "       having_IPhaving_IP_Address  URLURL_Length  Shortining_Service  \\\n",
              "index                                                                  \n",
              "721                             1             -1                   1   \n",
              "636                             1             -1                   1   \n",
              "8952                            1             -1                   1   \n",
              "7968                           -1             -1                   1   \n",
              "4724                            1             -1                   1   \n",
              "\n",
              "       having_At_Symbol  double_slash_redirecting  Prefix_Suffix  \\\n",
              "index                                                              \n",
              "721                   1                         1             -1   \n",
              "636                   1                         1             -1   \n",
              "8952                 -1                         1             -1   \n",
              "7968                  1                         1             -1   \n",
              "4724                  1                         1             -1   \n",
              "\n",
              "       having_Sub_Domain  SSLfinal_State  Domain_registeration_length  \\\n",
              "index                                                                   \n",
              "721                    0               0                            1   \n",
              "636                    0               0                            1   \n",
              "8952                   1               1                           -1   \n",
              "7968                   0              -1                            1   \n",
              "4724                   0              -1                            1   \n",
              "\n",
              "       Favicon  ...  popUpWidnow  Iframe  age_of_domain  DNSRecord  \\\n",
              "index           ...                                                  \n",
              "721         -1  ...           -1       1              1         -1   \n",
              "636          1  ...            1       1              1          1   \n",
              "8952        -1  ...           -1      -1              1          1   \n",
              "7968         1  ...            1       1             -1          1   \n",
              "4724         1  ...            1       1             -1          1   \n",
              "\n",
              "       web_traffic  Page_Rank  Google_Index  Links_pointing_to_page  \\\n",
              "index                                                                 \n",
              "721              1         -1             1                       1   \n",
              "636              0         -1             1                       0   \n",
              "8952            -1         -1             1                       0   \n",
              "7968             0         -1             1                       0   \n",
              "4724            -1         -1             1                       0   \n",
              "\n",
              "       Statistical_report  Result  \n",
              "index                              \n",
              "721                    -1      -1  \n",
              "636                     1      -1  \n",
              "8952                    1       1  \n",
              "7968                    1      -1  \n",
              "4724                    1      -1  \n",
              "\n",
              "[5 rows x 31 columns]"
            ],
            "text/html": [
              "\n",
              "  <div id=\"df-9e1d9cae-1d80-4259-a417-b7df9515c6dd\" class=\"colab-df-container\">\n",
              "    <div>\n",
              "<style scoped>\n",
              "    .dataframe tbody tr th:only-of-type {\n",
              "        vertical-align: middle;\n",
              "    }\n",
              "\n",
              "    .dataframe tbody tr th {\n",
              "        vertical-align: top;\n",
              "    }\n",
              "\n",
              "    .dataframe thead th {\n",
              "        text-align: right;\n",
              "    }\n",
              "</style>\n",
              "<table border=\"1\" class=\"dataframe\">\n",
              "  <thead>\n",
              "    <tr style=\"text-align: right;\">\n",
              "      <th></th>\n",
              "      <th>having_IPhaving_IP_Address</th>\n",
              "      <th>URLURL_Length</th>\n",
              "      <th>Shortining_Service</th>\n",
              "      <th>having_At_Symbol</th>\n",
              "      <th>double_slash_redirecting</th>\n",
              "      <th>Prefix_Suffix</th>\n",
              "      <th>having_Sub_Domain</th>\n",
              "      <th>SSLfinal_State</th>\n",
              "      <th>Domain_registeration_length</th>\n",
              "      <th>Favicon</th>\n",
              "      <th>...</th>\n",
              "      <th>popUpWidnow</th>\n",
              "      <th>Iframe</th>\n",
              "      <th>age_of_domain</th>\n",
              "      <th>DNSRecord</th>\n",
              "      <th>web_traffic</th>\n",
              "      <th>Page_Rank</th>\n",
              "      <th>Google_Index</th>\n",
              "      <th>Links_pointing_to_page</th>\n",
              "      <th>Statistical_report</th>\n",
              "      <th>Result</th>\n",
              "    </tr>\n",
              "    <tr>\n",
              "      <th>index</th>\n",
              "      <th></th>\n",
              "      <th></th>\n",
              "      <th></th>\n",
              "      <th></th>\n",
              "      <th></th>\n",
              "      <th></th>\n",
              "      <th></th>\n",
              "      <th></th>\n",
              "      <th></th>\n",
              "      <th></th>\n",
              "      <th></th>\n",
              "      <th></th>\n",
              "      <th></th>\n",
              "      <th></th>\n",
              "      <th></th>\n",
              "      <th></th>\n",
              "      <th></th>\n",
              "      <th></th>\n",
              "      <th></th>\n",
              "      <th></th>\n",
              "      <th></th>\n",
              "    </tr>\n",
              "  </thead>\n",
              "  <tbody>\n",
              "    <tr>\n",
              "      <th>721</th>\n",
              "      <td>1</td>\n",
              "      <td>-1</td>\n",
              "      <td>1</td>\n",
              "      <td>1</td>\n",
              "      <td>1</td>\n",
              "      <td>-1</td>\n",
              "      <td>0</td>\n",
              "      <td>0</td>\n",
              "      <td>1</td>\n",
              "      <td>-1</td>\n",
              "      <td>...</td>\n",
              "      <td>-1</td>\n",
              "      <td>1</td>\n",
              "      <td>1</td>\n",
              "      <td>-1</td>\n",
              "      <td>1</td>\n",
              "      <td>-1</td>\n",
              "      <td>1</td>\n",
              "      <td>1</td>\n",
              "      <td>-1</td>\n",
              "      <td>-1</td>\n",
              "    </tr>\n",
              "    <tr>\n",
              "      <th>636</th>\n",
              "      <td>1</td>\n",
              "      <td>-1</td>\n",
              "      <td>1</td>\n",
              "      <td>1</td>\n",
              "      <td>1</td>\n",
              "      <td>-1</td>\n",
              "      <td>0</td>\n",
              "      <td>0</td>\n",
              "      <td>1</td>\n",
              "      <td>1</td>\n",
              "      <td>...</td>\n",
              "      <td>1</td>\n",
              "      <td>1</td>\n",
              "      <td>1</td>\n",
              "      <td>1</td>\n",
              "      <td>0</td>\n",
              "      <td>-1</td>\n",
              "      <td>1</td>\n",
              "      <td>0</td>\n",
              "      <td>1</td>\n",
              "      <td>-1</td>\n",
              "    </tr>\n",
              "    <tr>\n",
              "      <th>8952</th>\n",
              "      <td>1</td>\n",
              "      <td>-1</td>\n",
              "      <td>1</td>\n",
              "      <td>-1</td>\n",
              "      <td>1</td>\n",
              "      <td>-1</td>\n",
              "      <td>1</td>\n",
              "      <td>1</td>\n",
              "      <td>-1</td>\n",
              "      <td>-1</td>\n",
              "      <td>...</td>\n",
              "      <td>-1</td>\n",
              "      <td>-1</td>\n",
              "      <td>1</td>\n",
              "      <td>1</td>\n",
              "      <td>-1</td>\n",
              "      <td>-1</td>\n",
              "      <td>1</td>\n",
              "      <td>0</td>\n",
              "      <td>1</td>\n",
              "      <td>1</td>\n",
              "    </tr>\n",
              "    <tr>\n",
              "      <th>7968</th>\n",
              "      <td>-1</td>\n",
              "      <td>-1</td>\n",
              "      <td>1</td>\n",
              "      <td>1</td>\n",
              "      <td>1</td>\n",
              "      <td>-1</td>\n",
              "      <td>0</td>\n",
              "      <td>-1</td>\n",
              "      <td>1</td>\n",
              "      <td>1</td>\n",
              "      <td>...</td>\n",
              "      <td>1</td>\n",
              "      <td>1</td>\n",
              "      <td>-1</td>\n",
              "      <td>1</td>\n",
              "      <td>0</td>\n",
              "      <td>-1</td>\n",
              "      <td>1</td>\n",
              "      <td>0</td>\n",
              "      <td>1</td>\n",
              "      <td>-1</td>\n",
              "    </tr>\n",
              "    <tr>\n",
              "      <th>4724</th>\n",
              "      <td>1</td>\n",
              "      <td>-1</td>\n",
              "      <td>1</td>\n",
              "      <td>1</td>\n",
              "      <td>1</td>\n",
              "      <td>-1</td>\n",
              "      <td>0</td>\n",
              "      <td>-1</td>\n",
              "      <td>1</td>\n",
              "      <td>1</td>\n",
              "      <td>...</td>\n",
              "      <td>1</td>\n",
              "      <td>1</td>\n",
              "      <td>-1</td>\n",
              "      <td>1</td>\n",
              "      <td>-1</td>\n",
              "      <td>-1</td>\n",
              "      <td>1</td>\n",
              "      <td>0</td>\n",
              "      <td>1</td>\n",
              "      <td>-1</td>\n",
              "    </tr>\n",
              "  </tbody>\n",
              "</table>\n",
              "<p>5 rows × 31 columns</p>\n",
              "</div>\n",
              "    <div class=\"colab-df-buttons\">\n",
              "\n",
              "  <div class=\"colab-df-container\">\n",
              "    <button class=\"colab-df-convert\" onclick=\"convertToInteractive('df-9e1d9cae-1d80-4259-a417-b7df9515c6dd')\"\n",
              "            title=\"Convert this dataframe to an interactive table.\"\n",
              "            style=\"display:none;\">\n",
              "\n",
              "  <svg xmlns=\"http://www.w3.org/2000/svg\" height=\"24px\" viewBox=\"0 -960 960 960\">\n",
              "    <path d=\"M120-120v-720h720v720H120Zm60-500h600v-160H180v160Zm220 220h160v-160H400v160Zm0 220h160v-160H400v160ZM180-400h160v-160H180v160Zm440 0h160v-160H620v160ZM180-180h160v-160H180v160Zm440 0h160v-160H620v160Z\"/>\n",
              "  </svg>\n",
              "    </button>\n",
              "\n",
              "  <style>\n",
              "    .colab-df-container {\n",
              "      display:flex;\n",
              "      gap: 12px;\n",
              "    }\n",
              "\n",
              "    .colab-df-convert {\n",
              "      background-color: #E8F0FE;\n",
              "      border: none;\n",
              "      border-radius: 50%;\n",
              "      cursor: pointer;\n",
              "      display: none;\n",
              "      fill: #1967D2;\n",
              "      height: 32px;\n",
              "      padding: 0 0 0 0;\n",
              "      width: 32px;\n",
              "    }\n",
              "\n",
              "    .colab-df-convert:hover {\n",
              "      background-color: #E2EBFA;\n",
              "      box-shadow: 0px 1px 2px rgba(60, 64, 67, 0.3), 0px 1px 3px 1px rgba(60, 64, 67, 0.15);\n",
              "      fill: #174EA6;\n",
              "    }\n",
              "\n",
              "    .colab-df-buttons div {\n",
              "      margin-bottom: 4px;\n",
              "    }\n",
              "\n",
              "    [theme=dark] .colab-df-convert {\n",
              "      background-color: #3B4455;\n",
              "      fill: #D2E3FC;\n",
              "    }\n",
              "\n",
              "    [theme=dark] .colab-df-convert:hover {\n",
              "      background-color: #434B5C;\n",
              "      box-shadow: 0px 1px 3px 1px rgba(0, 0, 0, 0.15);\n",
              "      filter: drop-shadow(0px 1px 2px rgba(0, 0, 0, 0.3));\n",
              "      fill: #FFFFFF;\n",
              "    }\n",
              "  </style>\n",
              "\n",
              "    <script>\n",
              "      const buttonEl =\n",
              "        document.querySelector('#df-9e1d9cae-1d80-4259-a417-b7df9515c6dd button.colab-df-convert');\n",
              "      buttonEl.style.display =\n",
              "        google.colab.kernel.accessAllowed ? 'block' : 'none';\n",
              "\n",
              "      async function convertToInteractive(key) {\n",
              "        const element = document.querySelector('#df-9e1d9cae-1d80-4259-a417-b7df9515c6dd');\n",
              "        const dataTable =\n",
              "          await google.colab.kernel.invokeFunction('convertToInteractive',\n",
              "                                                    [key], {});\n",
              "        if (!dataTable) return;\n",
              "\n",
              "        const docLinkHtml = 'Like what you see? Visit the ' +\n",
              "          '<a target=\"_blank\" href=https://colab.research.google.com/notebooks/data_table.ipynb>data table notebook</a>'\n",
              "          + ' to learn more about interactive tables.';\n",
              "        element.innerHTML = '';\n",
              "        dataTable['output_type'] = 'display_data';\n",
              "        await google.colab.output.renderOutput(dataTable, element);\n",
              "        const docLink = document.createElement('div');\n",
              "        docLink.innerHTML = docLinkHtml;\n",
              "        element.appendChild(docLink);\n",
              "      }\n",
              "    </script>\n",
              "  </div>\n",
              "\n",
              "\n",
              "<div id=\"df-8a37a589-959b-48cd-88e7-5c944cf8be01\">\n",
              "  <button class=\"colab-df-quickchart\" onclick=\"quickchart('df-8a37a589-959b-48cd-88e7-5c944cf8be01')\"\n",
              "            title=\"Suggest charts\"\n",
              "            style=\"display:none;\">\n",
              "\n",
              "<svg xmlns=\"http://www.w3.org/2000/svg\" height=\"24px\"viewBox=\"0 0 24 24\"\n",
              "     width=\"24px\">\n",
              "    <g>\n",
              "        <path d=\"M19 3H5c-1.1 0-2 .9-2 2v14c0 1.1.9 2 2 2h14c1.1 0 2-.9 2-2V5c0-1.1-.9-2-2-2zM9 17H7v-7h2v7zm4 0h-2V7h2v10zm4 0h-2v-4h2v4z\"/>\n",
              "    </g>\n",
              "</svg>\n",
              "  </button>\n",
              "\n",
              "<style>\n",
              "  .colab-df-quickchart {\n",
              "      --bg-color: #E8F0FE;\n",
              "      --fill-color: #1967D2;\n",
              "      --hover-bg-color: #E2EBFA;\n",
              "      --hover-fill-color: #174EA6;\n",
              "      --disabled-fill-color: #AAA;\n",
              "      --disabled-bg-color: #DDD;\n",
              "  }\n",
              "\n",
              "  [theme=dark] .colab-df-quickchart {\n",
              "      --bg-color: #3B4455;\n",
              "      --fill-color: #D2E3FC;\n",
              "      --hover-bg-color: #434B5C;\n",
              "      --hover-fill-color: #FFFFFF;\n",
              "      --disabled-bg-color: #3B4455;\n",
              "      --disabled-fill-color: #666;\n",
              "  }\n",
              "\n",
              "  .colab-df-quickchart {\n",
              "    background-color: var(--bg-color);\n",
              "    border: none;\n",
              "    border-radius: 50%;\n",
              "    cursor: pointer;\n",
              "    display: none;\n",
              "    fill: var(--fill-color);\n",
              "    height: 32px;\n",
              "    padding: 0;\n",
              "    width: 32px;\n",
              "  }\n",
              "\n",
              "  .colab-df-quickchart:hover {\n",
              "    background-color: var(--hover-bg-color);\n",
              "    box-shadow: 0 1px 2px rgba(60, 64, 67, 0.3), 0 1px 3px 1px rgba(60, 64, 67, 0.15);\n",
              "    fill: var(--button-hover-fill-color);\n",
              "  }\n",
              "\n",
              "  .colab-df-quickchart-complete:disabled,\n",
              "  .colab-df-quickchart-complete:disabled:hover {\n",
              "    background-color: var(--disabled-bg-color);\n",
              "    fill: var(--disabled-fill-color);\n",
              "    box-shadow: none;\n",
              "  }\n",
              "\n",
              "  .colab-df-spinner {\n",
              "    border: 2px solid var(--fill-color);\n",
              "    border-color: transparent;\n",
              "    border-bottom-color: var(--fill-color);\n",
              "    animation:\n",
              "      spin 1s steps(1) infinite;\n",
              "  }\n",
              "\n",
              "  @keyframes spin {\n",
              "    0% {\n",
              "      border-color: transparent;\n",
              "      border-bottom-color: var(--fill-color);\n",
              "      border-left-color: var(--fill-color);\n",
              "    }\n",
              "    20% {\n",
              "      border-color: transparent;\n",
              "      border-left-color: var(--fill-color);\n",
              "      border-top-color: var(--fill-color);\n",
              "    }\n",
              "    30% {\n",
              "      border-color: transparent;\n",
              "      border-left-color: var(--fill-color);\n",
              "      border-top-color: var(--fill-color);\n",
              "      border-right-color: var(--fill-color);\n",
              "    }\n",
              "    40% {\n",
              "      border-color: transparent;\n",
              "      border-right-color: var(--fill-color);\n",
              "      border-top-color: var(--fill-color);\n",
              "    }\n",
              "    60% {\n",
              "      border-color: transparent;\n",
              "      border-right-color: var(--fill-color);\n",
              "    }\n",
              "    80% {\n",
              "      border-color: transparent;\n",
              "      border-right-color: var(--fill-color);\n",
              "      border-bottom-color: var(--fill-color);\n",
              "    }\n",
              "    90% {\n",
              "      border-color: transparent;\n",
              "      border-bottom-color: var(--fill-color);\n",
              "    }\n",
              "  }\n",
              "</style>\n",
              "\n",
              "  <script>\n",
              "    async function quickchart(key) {\n",
              "      const quickchartButtonEl =\n",
              "        document.querySelector('#' + key + ' button');\n",
              "      quickchartButtonEl.disabled = true;  // To prevent multiple clicks.\n",
              "      quickchartButtonEl.classList.add('colab-df-spinner');\n",
              "      try {\n",
              "        const charts = await google.colab.kernel.invokeFunction(\n",
              "            'suggestCharts', [key], {});\n",
              "      } catch (error) {\n",
              "        console.error('Error during call to suggestCharts:', error);\n",
              "      }\n",
              "      quickchartButtonEl.classList.remove('colab-df-spinner');\n",
              "      quickchartButtonEl.classList.add('colab-df-quickchart-complete');\n",
              "    }\n",
              "    (() => {\n",
              "      let quickchartButtonEl =\n",
              "        document.querySelector('#df-8a37a589-959b-48cd-88e7-5c944cf8be01 button');\n",
              "      quickchartButtonEl.style.display =\n",
              "        google.colab.kernel.accessAllowed ? 'block' : 'none';\n",
              "    })();\n",
              "  </script>\n",
              "</div>\n",
              "\n",
              "    </div>\n",
              "  </div>\n"
            ],
            "application/vnd.google.colaboratory.intrinsic+json": {
              "type": "dataframe",
              "variable_name": "df"
            }
          },
          "metadata": {},
          "execution_count": 30
        }
      ],
      "source": [
        "df = pd.read_csv(\"dataset.csv\",index_col=0)\n",
        "df = sklearn.utils.shuffle(df)\n",
        "X = df.drop(\"Result\",axis=1).values\n",
        "X = preprocessing.scale(X)\n",
        "y = df['Result'].values\n",
        "\n",
        "y = np.where(y == -1, 0, y)\n",
        "\n",
        "df.head()\n"
      ]
    },
    {
      "cell_type": "markdown",
      "metadata": {
        "id": "T6WMjrn4WMmU"
      },
      "source": [
        "# Evalution metrics\n",
        " - Specifying evaluation metrics for classification models\n",
        " - Using 10 fold-cross-validation for evaluting"
      ]
    },
    {
      "cell_type": "code",
      "execution_count": 31,
      "metadata": {
        "id": "9O8Rh98PWMmU"
      },
      "outputs": [],
      "source": [
        "scoring = {'accuracy': 'accuracy',\n",
        "           'recall': 'recall',\n",
        "           'precision': 'precision',\n",
        "           'f1': 'f1'}\n",
        "fold_count=10"
      ]
    },
    {
      "cell_type": "markdown",
      "metadata": {
        "id": "cx2V-eS_WMmU"
      },
      "source": [
        "# Classication models for phishing detection:"
      ]
    },
    {
      "cell_type": "markdown",
      "metadata": {
        "id": "dWD3YBs9WMmU"
      },
      "source": [
        "### Descision Tree\n"
      ]
    },
    {
      "cell_type": "code",
      "execution_count": 32,
      "metadata": {
        "colab": {
          "base_uri": "https://localhost:8080/"
        },
        "id": "XecJ16wnWMmU",
        "outputId": "927e2509-259c-4a0e-d28f-1c7c533d05f1"
      },
      "outputs": [
        {
          "output_type": "stream",
          "name": "stdout",
          "text": [
            "{'fit_time': np.float64(0.08793380260467529), 'score_time': np.float64(0.029896140098571777), 'test_accuracy': np.float64(0.9650853837153168), 'test_recall': np.float64(0.971415109280963), 'test_precision': np.float64(0.9661263607990012), 'test_f1': np.float64(0.9687414741175002)}\n"
          ]
        }
      ],
      "source": [
        "dtree_clf=DecisionTreeClassifier()\n",
        "cross_val_scores = cross_validate(dtree_clf, X, y, cv=fold_count, scoring=scoring)\n",
        "dtree_score = mean_score(cross_val_scores)\n",
        "print(dtree_score)"
      ]
    },
    {
      "cell_type": "markdown",
      "metadata": {
        "id": "WWkQ6iDLWMmU"
      },
      "source": [
        "### Random Forest"
      ]
    },
    {
      "cell_type": "code",
      "execution_count": 33,
      "metadata": {
        "colab": {
          "base_uri": "https://localhost:8080/"
        },
        "id": "Kuxk6zEDWMmV",
        "outputId": "0b0609aa-247f-4f7d-a6a6-9eea378e6f8b"
      },
      "outputs": [
        {
          "output_type": "stream",
          "name": "stdout",
          "text": [
            "{'fit_time': np.float64(0.673348331451416), 'score_time': np.float64(0.030683493614196776), 'test_accuracy': np.float64(0.9726822842087175), 'test_recall': np.float64(0.9821338823777849), 'test_precision': np.float64(0.9692997906579028), 'test_f1': np.float64(0.9756508155835688)}\n"
          ]
        }
      ],
      "source": [
        "rforest_clf=RandomForestClassifier()\n",
        "cross_val_scores = cross_validate(rforest_clf, X, y, cv=fold_count, scoring=scoring)\n",
        "rforest_clf_score = mean_score(cross_val_scores)\n",
        "print(rforest_clf_score)"
      ]
    },
    {
      "cell_type": "markdown",
      "metadata": {
        "id": "bGizsuo4WMmV"
      },
      "source": [
        " ### Ada_Booster"
      ]
    },
    {
      "cell_type": "code",
      "execution_count": 34,
      "metadata": {
        "colab": {
          "base_uri": "https://localhost:8080/"
        },
        "id": "bSJapCdeWMmV",
        "outputId": "3018f7be-2188-4cc9-d4ff-19420e7bfc9c"
      },
      "outputs": [
        {
          "output_type": "stream",
          "name": "stdout",
          "text": [
            "{'fit_time': np.float64(0.44492878913879397), 'score_time': np.float64(0.02816479206085205), 'test_accuracy': np.float64(0.9320681924181553), 'test_recall': np.float64(0.950461408510189), 'test_precision': np.float64(0.9293002813597327), 'test_f1': np.float64(0.9397225345230549)}\n"
          ]
        }
      ],
      "source": [
        "adaboost_clf=AdaBoostClassifier()\n",
        "cross_val_scores = cross_validate(adaboost_clf, X, y, cv=fold_count, scoring=scoring)\n",
        "adaboost_clf_score = mean_score(cross_val_scores)\n",
        "print(adaboost_clf_score)"
      ]
    },
    {
      "cell_type": "markdown",
      "metadata": {
        "id": "8FCWmuyfWMmV"
      },
      "source": [
        "### Gradient Boosting With XGBoost"
      ]
    },
    {
      "cell_type": "code",
      "execution_count": 35,
      "metadata": {
        "colab": {
          "base_uri": "https://localhost:8080/"
        },
        "id": "t3WjN75aWMmV",
        "outputId": "277e698e-903a-43bc-d8bb-772872875ca7"
      },
      "outputs": [
        {
          "output_type": "stream",
          "name": "stdout",
          "text": [
            "{'fit_time': np.float64(0.17188916206359864), 'score_time': np.float64(0.014355349540710449), 'test_accuracy': np.float64(0.9732260070532595), 'test_recall': np.float64(0.981646869390772), 'test_precision': np.float64(0.9706849292271599), 'test_f1': np.float64(0.9761186036587384)}\n"
          ]
        }
      ],
      "source": [
        "XGB_clf=XGBClassifier()\n",
        "cross_val_scores = cross_validate(XGB_clf, X, y, cv=fold_count, scoring=scoring)\n",
        "XGB_clf_score= mean_score(cross_val_scores)\n",
        "print(XGB_clf_score)"
      ]
    },
    {
      "cell_type": "markdown",
      "metadata": {
        "id": "vIwvL3P-WMmV"
      },
      "source": [
        "### Gradient_Booster"
      ]
    },
    {
      "cell_type": "code",
      "execution_count": 36,
      "metadata": {
        "colab": {
          "base_uri": "https://localhost:8080/"
        },
        "id": "mx5tpkg6WMmV",
        "outputId": "984074c1-1a46-42c1-b6f7-c187d7c76f1c"
      },
      "outputs": [
        {
          "output_type": "stream",
          "name": "stdout",
          "text": [
            "{'fit_time': np.float64(1.196814775466919), 'score_time': np.float64(0.011749005317687989), 'test_accuracy': np.float64(0.9485311709883563), 'test_recall': np.float64(0.962805933903495), 'test_precision': np.float64(0.9458539386185955), 'test_f1': np.float64(0.954222676986283)}\n"
          ]
        }
      ],
      "source": [
        "gradientBooster_clf=GradientBoostingClassifier()\n",
        "cross_val_scores = cross_validate(gradientBooster_clf,X, y, cv=fold_count, scoring=scoring)\n",
        "gradientBooster_clf_score= mean_score(cross_val_scores)\n",
        "print(gradientBooster_clf_score)"
      ]
    },
    {
      "cell_type": "markdown",
      "metadata": {
        "id": "2bHGhQJ8WMmV"
      },
      "source": [
        "### Histogram-Based Gradient Boosting"
      ]
    },
    {
      "cell_type": "code",
      "execution_count": 37,
      "metadata": {
        "colab": {
          "base_uri": "https://localhost:8080/"
        },
        "id": "ywtmTGw6WMmV",
        "outputId": "269a70fe-fe26-434b-bb88-81815e86bffb"
      },
      "outputs": [
        {
          "output_type": "stream",
          "name": "stdout",
          "text": [
            "{'fit_time': np.float64(0.6539448022842407), 'score_time': np.float64(0.02240593433380127), 'test_accuracy': np.float64(0.9688839157863729), 'test_recall': np.float64(0.975964259317918), 'test_precision': np.float64(0.9685151009483874), 'test_f1': np.float64(0.9721985304584893)}\n"
          ]
        }
      ],
      "source": [
        "histGradientBooster_clf = HistGradientBoostingClassifier()\n",
        "cross_val_scores = cross_validate(histGradientBooster_clf,X, y, cv=fold_count, scoring=scoring)\n",
        "histGradientBooster_clf_score= mean_score(cross_val_scores)\n",
        "print(histGradientBooster_clf_score)"
      ]
    },
    {
      "cell_type": "markdown",
      "metadata": {
        "id": "ff2DBzI6WMmV"
      },
      "source": [
        "### LightGBM for Classification"
      ]
    },
    {
      "cell_type": "code",
      "execution_count": 38,
      "metadata": {
        "colab": {
          "base_uri": "https://localhost:8080/"
        },
        "id": "Uq_sJ1LdWMmW",
        "outputId": "31115bb9-c5e6-4a74-c3b4-59bfe2e540ca"
      },
      "outputs": [
        {
          "output_type": "stream",
          "name": "stderr",
          "text": [
            "/usr/local/lib/python3.11/dist-packages/sklearn/utils/deprecation.py:151: FutureWarning: 'force_all_finite' was renamed to 'ensure_all_finite' in 1.6 and will be removed in 1.8.\n",
            "  warnings.warn(\n"
          ]
        },
        {
          "output_type": "stream",
          "name": "stdout",
          "text": [
            "[LightGBM] [Info] Number of positive: 5541, number of negative: 4408\n",
            "[LightGBM] [Info] Auto-choosing row-wise multi-threading, the overhead of testing was 0.003010 seconds.\n",
            "You can set `force_row_wise=true` to remove the overhead.\n",
            "And if memory is not enough, you can set `force_col_wise=true`.\n",
            "[LightGBM] [Info] Total Bins 98\n",
            "[LightGBM] [Info] Number of data points in the train set: 9949, number of used features: 30\n",
            "[LightGBM] [Info] [binary:BoostFromScore]: pavg=0.556940 -> initscore=0.228754\n",
            "[LightGBM] [Info] Start training from score 0.228754\n"
          ]
        },
        {
          "output_type": "stream",
          "name": "stderr",
          "text": [
            "/usr/local/lib/python3.11/dist-packages/sklearn/utils/deprecation.py:151: FutureWarning: 'force_all_finite' was renamed to 'ensure_all_finite' in 1.6 and will be removed in 1.8.\n",
            "  warnings.warn(\n",
            "/usr/local/lib/python3.11/dist-packages/sklearn/utils/deprecation.py:151: FutureWarning: 'force_all_finite' was renamed to 'ensure_all_finite' in 1.6 and will be removed in 1.8.\n",
            "  warnings.warn(\n"
          ]
        },
        {
          "output_type": "stream",
          "name": "stdout",
          "text": [
            "[LightGBM] [Info] Number of positive: 5541, number of negative: 4408\n",
            "[LightGBM] [Info] Auto-choosing row-wise multi-threading, the overhead of testing was 0.003275 seconds.\n",
            "You can set `force_row_wise=true` to remove the overhead.\n",
            "And if memory is not enough, you can set `force_col_wise=true`.\n",
            "[LightGBM] [Info] Total Bins 98\n",
            "[LightGBM] [Info] Number of data points in the train set: 9949, number of used features: 30\n",
            "[LightGBM] [Info] [binary:BoostFromScore]: pavg=0.556940 -> initscore=0.228754\n",
            "[LightGBM] [Info] Start training from score 0.228754\n"
          ]
        },
        {
          "output_type": "stream",
          "name": "stderr",
          "text": [
            "/usr/local/lib/python3.11/dist-packages/sklearn/utils/deprecation.py:151: FutureWarning: 'force_all_finite' was renamed to 'ensure_all_finite' in 1.6 and will be removed in 1.8.\n",
            "  warnings.warn(\n",
            "/usr/local/lib/python3.11/dist-packages/sklearn/utils/deprecation.py:151: FutureWarning: 'force_all_finite' was renamed to 'ensure_all_finite' in 1.6 and will be removed in 1.8.\n",
            "  warnings.warn(\n"
          ]
        },
        {
          "output_type": "stream",
          "name": "stdout",
          "text": [
            "[LightGBM] [Info] Number of positive: 5541, number of negative: 4408\n",
            "[LightGBM] [Info] Auto-choosing row-wise multi-threading, the overhead of testing was 0.003122 seconds.\n",
            "You can set `force_row_wise=true` to remove the overhead.\n",
            "And if memory is not enough, you can set `force_col_wise=true`.\n",
            "[LightGBM] [Info] Total Bins 98\n",
            "[LightGBM] [Info] Number of data points in the train set: 9949, number of used features: 30\n",
            "[LightGBM] [Info] [binary:BoostFromScore]: pavg=0.556940 -> initscore=0.228754\n",
            "[LightGBM] [Info] Start training from score 0.228754\n"
          ]
        },
        {
          "output_type": "stream",
          "name": "stderr",
          "text": [
            "/usr/local/lib/python3.11/dist-packages/sklearn/utils/deprecation.py:151: FutureWarning: 'force_all_finite' was renamed to 'ensure_all_finite' in 1.6 and will be removed in 1.8.\n",
            "  warnings.warn(\n",
            "/usr/local/lib/python3.11/dist-packages/sklearn/utils/deprecation.py:151: FutureWarning: 'force_all_finite' was renamed to 'ensure_all_finite' in 1.6 and will be removed in 1.8.\n",
            "  warnings.warn(\n"
          ]
        },
        {
          "output_type": "stream",
          "name": "stdout",
          "text": [
            "[LightGBM] [Info] Number of positive: 5541, number of negative: 4408\n",
            "[LightGBM] [Info] Auto-choosing row-wise multi-threading, the overhead of testing was 0.003101 seconds.\n",
            "You can set `force_row_wise=true` to remove the overhead.\n",
            "And if memory is not enough, you can set `force_col_wise=true`.\n",
            "[LightGBM] [Info] Total Bins 98\n",
            "[LightGBM] [Info] Number of data points in the train set: 9949, number of used features: 30\n",
            "[LightGBM] [Info] [binary:BoostFromScore]: pavg=0.556940 -> initscore=0.228754\n",
            "[LightGBM] [Info] Start training from score 0.228754\n"
          ]
        },
        {
          "output_type": "stream",
          "name": "stderr",
          "text": [
            "/usr/local/lib/python3.11/dist-packages/sklearn/utils/deprecation.py:151: FutureWarning: 'force_all_finite' was renamed to 'ensure_all_finite' in 1.6 and will be removed in 1.8.\n",
            "  warnings.warn(\n",
            "/usr/local/lib/python3.11/dist-packages/sklearn/utils/deprecation.py:151: FutureWarning: 'force_all_finite' was renamed to 'ensure_all_finite' in 1.6 and will be removed in 1.8.\n",
            "  warnings.warn(\n"
          ]
        },
        {
          "output_type": "stream",
          "name": "stdout",
          "text": [
            "[LightGBM] [Info] Number of positive: 5541, number of negative: 4408\n",
            "[LightGBM] [Info] Auto-choosing row-wise multi-threading, the overhead of testing was 0.002892 seconds.\n",
            "You can set `force_row_wise=true` to remove the overhead.\n",
            "And if memory is not enough, you can set `force_col_wise=true`.\n",
            "[LightGBM] [Info] Total Bins 98\n",
            "[LightGBM] [Info] Number of data points in the train set: 9949, number of used features: 30\n",
            "[LightGBM] [Info] [binary:BoostFromScore]: pavg=0.556940 -> initscore=0.228754\n",
            "[LightGBM] [Info] Start training from score 0.228754\n"
          ]
        },
        {
          "output_type": "stream",
          "name": "stderr",
          "text": [
            "/usr/local/lib/python3.11/dist-packages/sklearn/utils/deprecation.py:151: FutureWarning: 'force_all_finite' was renamed to 'ensure_all_finite' in 1.6 and will be removed in 1.8.\n",
            "  warnings.warn(\n",
            "/usr/local/lib/python3.11/dist-packages/sklearn/utils/deprecation.py:151: FutureWarning: 'force_all_finite' was renamed to 'ensure_all_finite' in 1.6 and will be removed in 1.8.\n",
            "  warnings.warn(\n"
          ]
        },
        {
          "output_type": "stream",
          "name": "stdout",
          "text": [
            "[LightGBM] [Info] Number of positive: 5542, number of negative: 4408\n",
            "[LightGBM] [Info] Auto-choosing row-wise multi-threading, the overhead of testing was 0.003071 seconds.\n",
            "You can set `force_row_wise=true` to remove the overhead.\n",
            "And if memory is not enough, you can set `force_col_wise=true`.\n",
            "[LightGBM] [Info] Total Bins 98\n",
            "[LightGBM] [Info] Number of data points in the train set: 9950, number of used features: 30\n",
            "[LightGBM] [Info] [binary:BoostFromScore]: pavg=0.556985 -> initscore=0.228934\n",
            "[LightGBM] [Info] Start training from score 0.228934\n"
          ]
        },
        {
          "output_type": "stream",
          "name": "stderr",
          "text": [
            "/usr/local/lib/python3.11/dist-packages/sklearn/utils/deprecation.py:151: FutureWarning: 'force_all_finite' was renamed to 'ensure_all_finite' in 1.6 and will be removed in 1.8.\n",
            "  warnings.warn(\n",
            "/usr/local/lib/python3.11/dist-packages/sklearn/utils/deprecation.py:151: FutureWarning: 'force_all_finite' was renamed to 'ensure_all_finite' in 1.6 and will be removed in 1.8.\n",
            "  warnings.warn(\n"
          ]
        },
        {
          "output_type": "stream",
          "name": "stdout",
          "text": [
            "[LightGBM] [Info] Number of positive: 5542, number of negative: 4408\n",
            "[LightGBM] [Info] Auto-choosing row-wise multi-threading, the overhead of testing was 0.003709 seconds.\n",
            "You can set `force_row_wise=true` to remove the overhead.\n",
            "And if memory is not enough, you can set `force_col_wise=true`.\n",
            "[LightGBM] [Info] Total Bins 98\n",
            "[LightGBM] [Info] Number of data points in the train set: 9950, number of used features: 30\n",
            "[LightGBM] [Info] [binary:BoostFromScore]: pavg=0.556985 -> initscore=0.228934\n",
            "[LightGBM] [Info] Start training from score 0.228934\n"
          ]
        },
        {
          "output_type": "stream",
          "name": "stderr",
          "text": [
            "/usr/local/lib/python3.11/dist-packages/sklearn/utils/deprecation.py:151: FutureWarning: 'force_all_finite' was renamed to 'ensure_all_finite' in 1.6 and will be removed in 1.8.\n",
            "  warnings.warn(\n",
            "/usr/local/lib/python3.11/dist-packages/sklearn/utils/deprecation.py:151: FutureWarning: 'force_all_finite' was renamed to 'ensure_all_finite' in 1.6 and will be removed in 1.8.\n",
            "  warnings.warn(\n"
          ]
        },
        {
          "output_type": "stream",
          "name": "stdout",
          "text": [
            "[LightGBM] [Info] Number of positive: 5542, number of negative: 4408\n",
            "[LightGBM] [Info] Auto-choosing row-wise multi-threading, the overhead of testing was 0.002787 seconds.\n",
            "You can set `force_row_wise=true` to remove the overhead.\n",
            "And if memory is not enough, you can set `force_col_wise=true`.\n",
            "[LightGBM] [Info] Total Bins 98\n",
            "[LightGBM] [Info] Number of data points in the train set: 9950, number of used features: 30\n",
            "[LightGBM] [Info] [binary:BoostFromScore]: pavg=0.556985 -> initscore=0.228934\n",
            "[LightGBM] [Info] Start training from score 0.228934\n"
          ]
        },
        {
          "output_type": "stream",
          "name": "stderr",
          "text": [
            "/usr/local/lib/python3.11/dist-packages/sklearn/utils/deprecation.py:151: FutureWarning: 'force_all_finite' was renamed to 'ensure_all_finite' in 1.6 and will be removed in 1.8.\n",
            "  warnings.warn(\n",
            "/usr/local/lib/python3.11/dist-packages/sklearn/utils/deprecation.py:151: FutureWarning: 'force_all_finite' was renamed to 'ensure_all_finite' in 1.6 and will be removed in 1.8.\n",
            "  warnings.warn(\n"
          ]
        },
        {
          "output_type": "stream",
          "name": "stdout",
          "text": [
            "[LightGBM] [Info] Number of positive: 5541, number of negative: 4409\n",
            "[LightGBM] [Info] Auto-choosing row-wise multi-threading, the overhead of testing was 0.003094 seconds.\n",
            "You can set `force_row_wise=true` to remove the overhead.\n",
            "And if memory is not enough, you can set `force_col_wise=true`.\n",
            "[LightGBM] [Info] Total Bins 98\n",
            "[LightGBM] [Info] Number of data points in the train set: 9950, number of used features: 30\n",
            "[LightGBM] [Info] [binary:BoostFromScore]: pavg=0.556884 -> initscore=0.228527\n",
            "[LightGBM] [Info] Start training from score 0.228527\n"
          ]
        },
        {
          "output_type": "stream",
          "name": "stderr",
          "text": [
            "/usr/local/lib/python3.11/dist-packages/sklearn/utils/deprecation.py:151: FutureWarning: 'force_all_finite' was renamed to 'ensure_all_finite' in 1.6 and will be removed in 1.8.\n",
            "  warnings.warn(\n",
            "/usr/local/lib/python3.11/dist-packages/sklearn/utils/deprecation.py:151: FutureWarning: 'force_all_finite' was renamed to 'ensure_all_finite' in 1.6 and will be removed in 1.8.\n",
            "  warnings.warn(\n"
          ]
        },
        {
          "output_type": "stream",
          "name": "stdout",
          "text": [
            "[LightGBM] [Info] Number of positive: 5541, number of negative: 4409\n",
            "[LightGBM] [Info] Auto-choosing row-wise multi-threading, the overhead of testing was 0.003205 seconds.\n",
            "You can set `force_row_wise=true` to remove the overhead.\n",
            "And if memory is not enough, you can set `force_col_wise=true`.\n",
            "[LightGBM] [Info] Total Bins 98\n",
            "[LightGBM] [Info] Number of data points in the train set: 9950, number of used features: 30\n",
            "[LightGBM] [Info] [binary:BoostFromScore]: pavg=0.556884 -> initscore=0.228527\n",
            "[LightGBM] [Info] Start training from score 0.228527\n",
            "{'fit_time': np.float64(0.2062828779220581), 'score_time': np.float64(0.016764616966247557), 'test_accuracy': np.float64(0.9680697634457873), 'test_recall': np.float64(0.9770998310632457), 'test_precision': np.float64(0.9660381265603151), 'test_f1': np.float64(0.9715228253304252)}\n"
          ]
        },
        {
          "output_type": "stream",
          "name": "stderr",
          "text": [
            "/usr/local/lib/python3.11/dist-packages/sklearn/utils/deprecation.py:151: FutureWarning: 'force_all_finite' was renamed to 'ensure_all_finite' in 1.6 and will be removed in 1.8.\n",
            "  warnings.warn(\n"
          ]
        }
      ],
      "source": [
        "LGBM_clf = LGBMClassifier()\n",
        "cross_val_scores = cross_validate(LGBM_clf,X, y, cv=fold_count, scoring=scoring)\n",
        "LGBM_clf_score= mean_score(cross_val_scores)\n",
        "print(LGBM_clf_score)"
      ]
    },
    {
      "cell_type": "markdown",
      "metadata": {
        "id": "nnP-psgOWMmW"
      },
      "source": [
        " ### Gradient Boosting with CatBoost"
      ]
    },
    {
      "cell_type": "code",
      "execution_count": 39,
      "metadata": {
        "colab": {
          "base_uri": "https://localhost:8080/"
        },
        "id": "XI1B0gzlWMmW",
        "outputId": "a3c0254e-2971-4efd-9ce4-5d2ceabe4bfd"
      },
      "outputs": [
        {
          "output_type": "stream",
          "name": "stdout",
          "text": [
            "{'fit_time': np.float64(0.6864079475402832), 'score_time': np.float64(0.025033283233642577), 'test_accuracy': np.float64(0.9733156865472576), 'test_recall': np.float64(0.9831089642065252), 'test_precision': np.float64(0.9694755485620921), 'test_f1': np.float64(0.9762229092353639)}\n"
          ]
        }
      ],
      "source": [
        "catBoost_classifier = CatBoostClassifier(verbose=0, n_estimators=100)\n",
        "cross_val_scores = cross_validate(catBoost_classifier,X, y, cv=fold_count, scoring=scoring)\n",
        "catBoost_classifier_score= mean_score(cross_val_scores)\n",
        "print(catBoost_classifier_score)"
      ]
    },
    {
      "cell_type": "markdown",
      "metadata": {
        "id": "vpSsALGMWMmW"
      },
      "source": [
        "### KNN"
      ]
    },
    {
      "cell_type": "code",
      "execution_count": 40,
      "metadata": {
        "colab": {
          "base_uri": "https://localhost:8080/"
        },
        "id": "ZhbzdFmTWMmW",
        "outputId": "663fcf49-ea64-455b-e755-4796da91276d"
      },
      "outputs": [
        {
          "output_type": "stream",
          "name": "stdout",
          "text": [
            "{'fit_time': np.float64(0.0033696889877319336), 'score_time': np.float64(0.07636539936065674), 'test_accuracy': np.float64(0.9507024620948672), 'test_recall': np.float64(0.9598830640903813), 'test_precision': np.float64(0.9521346520897949), 'test_f1': np.float64(0.9559486861988059)}\n"
          ]
        }
      ],
      "source": [
        "KNeighbors_clf=KNeighborsClassifier(3)\n",
        "cross_val_scores = cross_validate(KNeighbors_clf, X, y, cv=fold_count, scoring=scoring)\n",
        "KNeighbors_clf_score = mean_score(cross_val_scores)\n",
        "print(KNeighbors_clf_score)"
      ]
    },
    {
      "cell_type": "markdown",
      "metadata": {
        "id": "hHUPwiP1WMmW"
      },
      "source": [
        "### Logistic Regrression"
      ]
    },
    {
      "cell_type": "code",
      "execution_count": 41,
      "metadata": {
        "colab": {
          "base_uri": "https://localhost:8080/"
        },
        "id": "zJSoPHjEWMmW",
        "outputId": "b672ceba-82b1-40d4-a287-7e38567a28c9"
      },
      "outputs": [
        {
          "output_type": "stream",
          "name": "stdout",
          "text": [
            "{'fit_time': np.float64(0.023633408546447753), 'score_time': np.float64(0.0077850341796875), 'test_accuracy': np.float64(0.9270017919533929), 'test_recall': np.float64(0.9442912575229648), 'test_precision': np.float64(0.926178597182591), 'test_f1': np.float64(0.9351074475177565)}\n"
          ]
        }
      ],
      "source": [
        "logistic_clf=LogisticRegression(random_state=1)\n",
        "cross_val_scores = cross_validate(logistic_clf, X, y, cv=fold_count, scoring=scoring)\n",
        "logistic_clf_score = mean_score(cross_val_scores)\n",
        "print(logistic_clf_score)"
      ]
    },
    {
      "cell_type": "markdown",
      "metadata": {
        "id": "x2U0_CcuWMmW"
      },
      "source": [
        "### NN"
      ]
    },
    {
      "cell_type": "code",
      "execution_count": 42,
      "metadata": {
        "colab": {
          "base_uri": "https://localhost:8080/"
        },
        "id": "uoXqI86lWMmW",
        "outputId": "bb6c0dbf-e099-4f44-904a-26e21f914b55"
      },
      "outputs": [
        {
          "output_type": "stream",
          "name": "stdout",
          "text": [
            "{'fit_time': np.float64(10.15296504497528), 'score_time': np.float64(0.014926528930664063), 'test_accuracy': np.float64(0.9706023090833218), 'test_recall': np.float64(0.9795359518530251), 'test_precision': np.float64(0.9681063926823894), 'test_f1': np.float64(0.9737712997350526)}\n"
          ]
        }
      ],
      "source": [
        "neural_clf=MLPClassifier(hidden_layer_sizes=(33,),max_iter=500)\n",
        "cross_val_scores = cross_validate(neural_clf, X, y, cv=fold_count, scoring=scoring)\n",
        "neural_clf_score = mean_score(cross_val_scores)\n",
        "print(neural_clf_score)"
      ]
    },
    {
      "cell_type": "markdown",
      "metadata": {
        "id": "pcH-g-4FWMmW"
      },
      "source": [
        "### SVM"
      ]
    },
    {
      "cell_type": "code",
      "execution_count": 43,
      "metadata": {
        "colab": {
          "base_uri": "https://localhost:8080/"
        },
        "id": "wPiLwkEnWMmW",
        "outputId": "7bce6d4e-0df2-4a29-8fd8-4211f1113db0"
      },
      "outputs": [
        {
          "output_type": "stream",
          "name": "stdout",
          "text": [
            "{'fit_time': np.float64(2.7047837734222413), 'score_time': np.float64(0.08657872676849365), 'test_accuracy': np.float64(0.927544451081309), 'test_recall': np.float64(0.9452644916059552), 'test_precision': np.float64(0.9262107865297029), 'test_f1': np.float64(0.9355963854383733)}\n",
            "{'fit_time': np.float64(1.7159661769866943), 'score_time': np.float64(0.11655895709991455), 'test_accuracy': np.float64(0.949617716609526), 'test_recall': np.float64(0.9699538063562454), 'test_precision': np.float64(0.9414610218089562), 'test_f1': np.float64(0.9554647614794533)}\n",
            "{'fit_time': np.float64(1.596928334236145), 'score_time': np.float64(0.18848633766174316), 'test_accuracy': np.float64(0.9518780326151882), 'test_recall': np.float64(0.9697906768028719), 'test_precision': np.float64(0.9453225320951717), 'test_f1': np.float64(0.9573705363817548)}\n",
            "{'fit_time': np.float64(2.1278759956359865), 'score_time': np.float64(0.17172231674194335), 'test_accuracy': np.float64(0.8273171430207915), 'test_recall': np.float64(0.8455435012142329), 'test_precision': np.float64(0.8446005614046553), 'test_f1': np.float64(0.8450356350470896)}\n"
          ]
        }
      ],
      "source": [
        "###linear\n",
        "linear_clf = svm.SVC(kernel='linear')\n",
        "cross_val_scores = cross_validate(linear_clf, X, y, cv=fold_count, scoring=scoring)\n",
        "linear_svc_clf_score = mean_score(cross_val_scores)\n",
        "print(linear_svc_clf_score)\n",
        "###poly\n",
        "poly_clf = svm.SVC(kernel='poly')\n",
        "cross_val_scores = cross_validate(poly_clf, X, y, cv=fold_count, scoring=scoring)\n",
        "poly_svc_clf_score = mean_score(cross_val_scores)\n",
        "print(poly_svc_clf_score)\n",
        "###rbf\n",
        "rbf_clf = svm.SVC(kernel='rbf')\n",
        "cross_val_scores = cross_validate(rbf_clf, X, y, cv=fold_count, scoring=scoring)\n",
        "rbf_svc_clf_score = mean_score(cross_val_scores)\n",
        "print(rbf_svc_clf_score)\n",
        "###sigmoid\n",
        "sigmoid_clf = svm.SVC(kernel='sigmoid')\n",
        "cross_val_scores = cross_validate(sigmoid_clf, X, y, cv=fold_count, scoring=scoring)\n",
        "sigmoid_svc_clf_score = mean_score(cross_val_scores)\n",
        "print(sigmoid_svc_clf_score)\n"
      ]
    },
    {
      "cell_type": "code",
      "execution_count": null,
      "metadata": {
        "id": "AVnyvmWBWMmX"
      },
      "outputs": [],
      "source": []
    },
    {
      "cell_type": "code",
      "execution_count": null,
      "metadata": {
        "id": "EDchmXMPWMmX"
      },
      "outputs": [],
      "source": []
    }
  ],
  "metadata": {
    "kernelspec": {
      "display_name": "Python 3",
      "language": "python",
      "name": "python3"
    },
    "language_info": {
      "codemirror_mode": {
        "name": "ipython",
        "version": 3
      },
      "file_extension": ".py",
      "mimetype": "text/x-python",
      "name": "python",
      "nbconvert_exporter": "python",
      "pygments_lexer": "ipython3",
      "version": "3.6.9"
    },
    "colab": {
      "provenance": []
    }
  },
  "nbformat": 4,
  "nbformat_minor": 0
}